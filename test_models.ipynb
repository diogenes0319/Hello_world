{
 "cells": [
  {
   "cell_type": "code",
   "execution_count": null,
   "metadata": {},
   "outputs": [],
   "source": [
    "import numpy as np\n",
    "import pandas as pd\n",
    "import matplotlib.pyplot as plt\n",
    "\n",
    "from sklearn.metrics import confusion_matrix\n",
    "import tensorflow as tf\n",
    "from tensorflow.keras.datasets import cifar10\n",
    "from tensorflow.keras.models import Model, Sequential, clone_model, load_model\n",
    "from tensorflow.keras.layers import Input, Dense, add, concatenate, Conv2D,Dropout,\\\n",
    "BatchNormalization, Flatten, MaxPooling2D, AveragePooling2D, Activation"
   ]
  },
  {
   "cell_type": "code",
   "execution_count": null,
   "metadata": {},
   "outputs": [],
   "source": [
    "def load_CIFAR10_data(standarized = False, verbose = False):\n",
    "    \n",
    "    (X_train, y_train), (X_test, y_test) = cifar10.load_data()\n",
    "    \n",
    "    y_train = np.squeeze(y_train)\n",
    "    y_test = np.squeeze(y_test)\n",
    "    # substract mean and normalized to [-1/2,1/2]\n",
    "    if standarized: \n",
    "        X_train = X_train/255\n",
    "        X_test = X_test/255\n",
    "        mean_image = np.mean(X_train, axis=0)\n",
    "        X_train -= mean_image\n",
    "        X_test -= mean_image\n",
    "        \n",
    "    \n",
    "    \n",
    "    if verbose == True: \n",
    "        print(\"X_train shape :\", X_train.shape)\n",
    "        print(\"X_test shape :\", X_test.shape)\n",
    "        print(\"y_train shape :\", y_train.shape)\n",
    "        print(\"y_test shape :\", y_test.shape)\n",
    "    \n",
    "    return X_train, y_train, X_test, y_test\n",
    "\n",
    "def generate_imcomplete_data(X, y, missing_digits = None, verbose = False):\n",
    "    if missing_digits is None:\n",
    "        idx = np.ones_like(y, dtype = bool)\n",
    "    else:\n",
    "        idx = [y != i for i in missing_digits]\n",
    "        idx = np.all(idx, axis = 0)\n",
    "    X_incomplete, y_incomplete = X[idx], y[idx]\n",
    "    if verbose == True:\n",
    "        print(\"X shape :\", X_incomplete.shape)\n",
    "        print(\"y shape :\", y_incomplete.shape)\n",
    "    return X_incomplete, y_incomplete"
   ]
  },
  {
   "cell_type": "code",
   "execution_count": null,
   "metadata": {},
   "outputs": [],
   "source": [
    "X_train, y_train, X_test, y_test = load_CIFAR10_data(standarized = False, verbose = True)"
   ]
  },
  {
   "cell_type": "code",
   "execution_count": null,
   "metadata": {},
   "outputs": [],
   "source": [
    "model_D, x = None, None\n",
    "x = Input(shape = (32,32,3))\n",
    "y = Conv2D(filters = 128, kernel_size = (2,2), strides = 2, padding = \"same\", \n",
    "          activation = None)(x)\n",
    "y = BatchNormalization()(y)\n",
    "y = Activation(\"relu\")(y)\n",
    "y = MaxPooling2D(pool_size = (2,2), strides = 2, padding = \"same\")(y)\n",
    "\n",
    "y = Flatten()(y)\n",
    "y = Dense(units = 10, activation = \"softmax\")(y)\n",
    "\n",
    "model_D = Model(inputs = x, outputs = y)\n",
    "\n",
    "model_D.compile(optimizer=tf.keras.optimizers.Adam(lr = 1e-3), \n",
    "                      loss = \"sparse_categorical_crossentropy\",\n",
    "                      metrics = [\"accuracy\"])"
   ]
  },
  {
   "cell_type": "code",
   "execution_count": null,
   "metadata": {},
   "outputs": [],
   "source": [
    "model_D.summary()"
   ]
  },
  {
   "cell_type": "code",
   "execution_count": null,
   "metadata": {},
   "outputs": [],
   "source": [
    "model_D.fit(X_train, y_train, batch_size=128, epochs = 10, shuffle=False, verbose = 1, \n",
    "               validation_data=(X_test, y_test))"
   ]
  }
 ],
 "metadata": {
  "kernelspec": {
   "display_name": "Python 3",
   "language": "python",
   "name": "python3"
  },
  "language_info": {
   "codemirror_mode": {
    "name": "ipython",
    "version": 3
   },
   "file_extension": ".py",
   "mimetype": "text/x-python",
   "name": "python",
   "nbconvert_exporter": "python",
   "pygments_lexer": "ipython3",
   "version": "3.6.8"
  }
 },
 "nbformat": 4,
 "nbformat_minor": 2
}
